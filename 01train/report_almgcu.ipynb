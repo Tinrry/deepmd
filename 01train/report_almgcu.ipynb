{
 "cells": [
  {
   "cell_type": "code",
   "execution_count": null,
   "metadata": {},
   "outputs": [
    {
     "name": "stdout",
     "output_type": "stream",
     "text": [
      "/home/hhzheng/.conda/envs/zhh-deepmd-kit-v2.2.10/bin/dp\n"
     ]
    }
   ],
   "source": [
    "# make sure you are in deepmd-kit envoronment\n",
    "!which dp"
   ]
  },
  {
   "cell_type": "code",
   "execution_count": null,
   "metadata": {},
   "outputs": [],
   "source": [
    "import subprocess"
   ]
  },
  {
   "cell_type": "code",
   "execution_count": null,
   "metadata": {},
   "outputs": [],
   "source": [
    "\n",
    "subprocess.run([\"python ../dpdata_en.py\"])\n",
    "# check the output of dp_AlMgCu.cmcm_error.csv , dp_analyse_AlMgCu.cmcm_error.csv"
   ]
  },
  {
   "cell_type": "code",
   "execution_count": null,
   "metadata": {},
   "outputs": [
    {
     "name": "stderr",
     "output_type": "stream",
     "text": [
      "2024-11-27 10:26:32.770392: I tensorflow/core/util/port.cc:113] oneDNN custom operations are on. You may see slightly different numerical results due to floating-point round-off errors from different computation orders. To turn them off, set the environment variable `TF_ENABLE_ONEDNN_OPTS=0`.\n",
      "2024-11-27 10:26:32.806768: E external/local_xla/xla/stream_executor/cuda/cuda_dnn.cc:9261] Unable to register cuDNN factory: Attempting to register factory for plugin cuDNN when one has already been registered\n",
      "2024-11-27 10:26:32.806797: E external/local_xla/xla/stream_executor/cuda/cuda_fft.cc:607] Unable to register cuFFT factory: Attempting to register factory for plugin cuFFT when one has already been registered\n",
      "2024-11-27 10:26:32.807603: E external/local_xla/xla/stream_executor/cuda/cuda_blas.cc:1515] Unable to register cuBLAS factory: Attempting to register factory for plugin cuBLAS when one has already been registered\n",
      "2024-11-27 10:26:32.812845: I tensorflow/core/platform/cpu_feature_guard.cc:182] This TensorFlow binary is optimized to use available CPU instructions in performance-critical operations.\n",
      "To enable the following instructions: SSE4.1 SSE4.2 AVX AVX2 AVX512F AVX512_VNNI FMA, in other operations, rebuild TensorFlow with the appropriate compiler flags.\n",
      "WARNING:tensorflow:From /home/hhzheng/.conda/envs/zhh-deepmd-kit-v2.2.10/lib/python3.11/site-packages/tensorflow/python/compat/v2_compat.py:108: disable_resource_variables (from tensorflow.python.ops.variable_scope) is deprecated and will be removed in a future version.\n",
      "Instructions for updating:\n",
      "non-resource variables are not supported in the long term\n",
      "WARNING:root:To get the best performance, it is recommended to adjust the number of threads by setting the environment variables OMP_NUM_THREADS, TF_INTRA_OP_PARALLELISM_THREADS, and TF_INTER_OP_PARALLELISM_THREADS. See https://deepmd.rtfd.io/parallelism/ for more information.\n",
      "2024-11-27 10:26:34.924394: E tensorflow/core/framework/node_def_util.cc:676] NodeDef mentions attribute grad_x which is not in the op definition: Op<name=BatchMatMulV2; signature=x:T, y:T -> output:T; attr=T:type,allowed=[DT_BFLOAT16, DT_HALF, DT_FLOAT, DT_DOUBLE, DT_INT16, DT_INT32, DT_INT64, DT_UINT8, DT_UINT16, DT_UINT32, DT_UINT64, DT_COMPLEX64, DT_COMPLEX128]; attr=adj_x:bool,default=false; attr=adj_y:bool,default=false> This may be expected if your graph generating binary is newer  than this binary. Unknown attributes will be ignored. NodeDef: {{node load/filter_type_0/MatMul}}\n",
      "2024-11-27 10:26:35.240912: I tensorflow/core/common_runtime/gpu/gpu_device.cc:1929] Created device /job:localhost/replica:0/task:0/device:GPU:0 with 46857 MB memory:  -> device: 0, name: NVIDIA RTX A6000, pci bus id: 0000:15:00.0, compute capability: 8.6\n",
      "2024-11-27 10:26:35.241722: I tensorflow/core/common_runtime/gpu/gpu_device.cc:1929] Created device /job:localhost/replica:0/task:0/device:GPU:1 with 46749 MB memory:  -> device: 1, name: NVIDIA RTX A6000, pci bus id: 0000:2d:00.0, compute capability: 8.6\n",
      "2024-11-27 10:26:35.383726: I tensorflow/compiler/mlir/mlir_graph_optimization_pass.cc:388] MLIR V1 optimization pass is not enabled\n",
      "2024-11-27 10:26:35.900129: I tensorflow/core/common_runtime/gpu/gpu_device.cc:1929] Created device /job:localhost/replica:0/task:0/device:GPU:0 with 46857 MB memory:  -> device: 0, name: NVIDIA RTX A6000, pci bus id: 0000:15:00.0, compute capability: 8.6\n",
      "2024-11-27 10:26:35.900311: I tensorflow/core/common_runtime/gpu/gpu_device.cc:1929] Created device /job:localhost/replica:0/task:0/device:GPU:1 with 46749 MB memory:  -> device: 1, name: NVIDIA RTX A6000, pci bus id: 0000:2d:00.0, compute capability: 8.6\n",
      "DEEPMD INFO    # ---------------output of dp test--------------- \n",
      "DEEPMD INFO    # testing system : POSCAR.AlMgCu.cmcm.01x01x01/02.md/sys-0004-0008-0004/deepmd\n",
      "DEEPMD INFO    # number of test data : 2 \n",
      "DEEPMD INFO    Energy MAE         : 6.627363e-01 eV\n",
      "DEEPMD INFO    Energy RMSE        : 6.627364e-01 eV\n",
      "DEEPMD INFO    Energy MAE/Natoms  : 4.142102e-02 eV\n",
      "DEEPMD INFO    Energy RMSE/Natoms : 4.142102e-02 eV\n",
      "DEEPMD INFO    Force  MAE         : 7.415810e-02 eV/A\n",
      "DEEPMD INFO    Force  RMSE        : 1.055972e-01 eV/A\n",
      "DEEPMD INFO    Virial MAE         : 1.274060e+00 eV\n",
      "DEEPMD INFO    Virial RMSE        : 2.491921e+00 eV\n",
      "DEEPMD INFO    Virial MAE/Natoms  : 7.962876e-02 eV\n",
      "DEEPMD INFO    Virial RMSE/Natoms : 1.557451e-01 eV\n",
      "DEEPMD INFO    # ----------------------------------------------- \n"
     ]
    },
    {
     "data": {
      "text/plain": [
       "CompletedProcess(args=['dp', 'test', '-m', 'qlab01_compressed.pb', '-s', 'POSCAR.AlMgCu.cmcm.01x01x01/02.md/sys-0004-0008-0004/deepmd', '-n', '2'], returncode=0)"
      ]
     },
     "execution_count": 3,
     "metadata": {},
     "output_type": "execute_result"
    }
   ],
   "source": [
    "# qlab01上的模型在qstation01上可以测试使用吗？可以，结果相差0.01meV/atom， 基本一致。这个数据有20 frames.\n",
    "subprocess.run(['dp', 'test', '-m', 'qlab01_compressed.pb', '-s', 'POSCAR.AlMgCu.cmcm.01x01x01/02.md/sys-0004-0008-0004/deepmd', '-n', '2'])"
   ]
  },
  {
   "cell_type": "code",
   "execution_count": 4,
   "metadata": {},
   "outputs": [
    {
     "name": "stderr",
     "output_type": "stream",
     "text": [
      "2024-11-27 10:26:39.427008: I tensorflow/core/util/port.cc:113] oneDNN custom operations are on. You may see slightly different numerical results due to floating-point round-off errors from different computation orders. To turn them off, set the environment variable `TF_ENABLE_ONEDNN_OPTS=0`.\n",
      "2024-11-27 10:26:39.464541: E external/local_xla/xla/stream_executor/cuda/cuda_dnn.cc:9261] Unable to register cuDNN factory: Attempting to register factory for plugin cuDNN when one has already been registered\n",
      "2024-11-27 10:26:39.464571: E external/local_xla/xla/stream_executor/cuda/cuda_fft.cc:607] Unable to register cuFFT factory: Attempting to register factory for plugin cuFFT when one has already been registered\n",
      "2024-11-27 10:26:39.465483: E external/local_xla/xla/stream_executor/cuda/cuda_blas.cc:1515] Unable to register cuBLAS factory: Attempting to register factory for plugin cuBLAS when one has already been registered\n",
      "2024-11-27 10:26:39.471164: I tensorflow/core/platform/cpu_feature_guard.cc:182] This TensorFlow binary is optimized to use available CPU instructions in performance-critical operations.\n",
      "To enable the following instructions: SSE4.1 SSE4.2 AVX AVX2 AVX512F AVX512_VNNI FMA, in other operations, rebuild TensorFlow with the appropriate compiler flags.\n",
      "WARNING:tensorflow:From /home/hhzheng/.conda/envs/zhh-deepmd-kit-v2.2.10/lib/python3.11/site-packages/tensorflow/python/compat/v2_compat.py:108: disable_resource_variables (from tensorflow.python.ops.variable_scope) is deprecated and will be removed in a future version.\n",
      "Instructions for updating:\n",
      "non-resource variables are not supported in the long term\n",
      "WARNING:root:To get the best performance, it is recommended to adjust the number of threads by setting the environment variables OMP_NUM_THREADS, TF_INTRA_OP_PARALLELISM_THREADS, and TF_INTER_OP_PARALLELISM_THREADS. See https://deepmd.rtfd.io/parallelism/ for more information.\n",
      "2024-11-27 10:26:42.225386: I tensorflow/core/common_runtime/gpu/gpu_device.cc:1929] Created device /job:localhost/replica:0/task:0/device:GPU:0 with 46857 MB memory:  -> device: 0, name: NVIDIA RTX A6000, pci bus id: 0000:15:00.0, compute capability: 8.6\n",
      "2024-11-27 10:26:42.226182: I tensorflow/core/common_runtime/gpu/gpu_device.cc:1929] Created device /job:localhost/replica:0/task:0/device:GPU:1 with 46749 MB memory:  -> device: 1, name: NVIDIA RTX A6000, pci bus id: 0000:2d:00.0, compute capability: 8.6\n",
      "2024-11-27 10:26:42.452482: I tensorflow/compiler/mlir/mlir_graph_optimization_pass.cc:388] MLIR V1 optimization pass is not enabled\n",
      "2024-11-27 10:26:43.211266: I tensorflow/core/common_runtime/gpu/gpu_device.cc:1929] Created device /job:localhost/replica:0/task:0/device:GPU:0 with 46857 MB memory:  -> device: 0, name: NVIDIA RTX A6000, pci bus id: 0000:15:00.0, compute capability: 8.6\n",
      "2024-11-27 10:26:43.211447: I tensorflow/core/common_runtime/gpu/gpu_device.cc:1929] Created device /job:localhost/replica:0/task:0/device:GPU:1 with 46749 MB memory:  -> device: 1, name: NVIDIA RTX A6000, pci bus id: 0000:2d:00.0, compute capability: 8.6\n",
      "DEEPMD INFO    # ---------------output of dp test--------------- \n",
      "DEEPMD INFO    # testing system : POSCAR.AlMgCu.cmcm.01x01x01/02.md/sys-0004-0008-0004/deepmd\n",
      "DEEPMD INFO    # number of test data : 2 \n",
      "DEEPMD INFO    Energy MAE         : 6.629429e-01 eV\n",
      "DEEPMD INFO    Energy RMSE        : 6.629430e-01 eV\n",
      "DEEPMD INFO    Energy MAE/Natoms  : 4.143393e-02 eV\n",
      "DEEPMD INFO    Energy RMSE/Natoms : 4.143394e-02 eV\n",
      "DEEPMD INFO    Force  MAE         : 7.415419e-02 eV/A\n",
      "DEEPMD INFO    Force  RMSE        : 1.055929e-01 eV/A\n",
      "DEEPMD INFO    Virial MAE         : 1.273924e+00 eV\n",
      "DEEPMD INFO    Virial RMSE        : 2.491677e+00 eV\n",
      "DEEPMD INFO    Virial MAE/Natoms  : 7.962022e-02 eV\n",
      "DEEPMD INFO    Virial RMSE/Natoms : 1.557298e-01 eV\n",
      "DEEPMD INFO    # ----------------------------------------------- \n"
     ]
    },
    {
     "data": {
      "text/plain": [
       "CompletedProcess(args=['dp', 'test', '-m', 'qstation01_compressed.pb', '-s', 'POSCAR.AlMgCu.cmcm.01x01x01/02.md/sys-0004-0008-0004/deepmd', '-n', '2'], returncode=0)"
      ]
     },
     "execution_count": 4,
     "metadata": {},
     "output_type": "execute_result"
    }
   ],
   "source": [
    "\n",
    "subprocess.run(['dp', 'test', '-m', 'qstation01_compressed.pb', '-s', 'POSCAR.AlMgCu.cmcm.01x01x01/02.md/sys-0004-0008-0004/deepmd', '-n', '2'])"
   ]
  },
  {
   "cell_type": "code",
   "execution_count": null,
   "metadata": {},
   "outputs": [
    {
     "name": "stderr",
     "output_type": "stream",
     "text": [
      "2024-11-27 10:26:46.938933: I tensorflow/core/util/port.cc:113] oneDNN custom operations are on. You may see slightly different numerical results due to floating-point round-off errors from different computation orders. To turn them off, set the environment variable `TF_ENABLE_ONEDNN_OPTS=0`.\n",
      "2024-11-27 10:26:46.977492: E external/local_xla/xla/stream_executor/cuda/cuda_dnn.cc:9261] Unable to register cuDNN factory: Attempting to register factory for plugin cuDNN when one has already been registered\n",
      "2024-11-27 10:26:46.977528: E external/local_xla/xla/stream_executor/cuda/cuda_fft.cc:607] Unable to register cuFFT factory: Attempting to register factory for plugin cuFFT when one has already been registered\n",
      "2024-11-27 10:26:46.978404: E external/local_xla/xla/stream_executor/cuda/cuda_blas.cc:1515] Unable to register cuBLAS factory: Attempting to register factory for plugin cuBLAS when one has already been registered\n",
      "2024-11-27 10:26:46.984022: I tensorflow/core/platform/cpu_feature_guard.cc:182] This TensorFlow binary is optimized to use available CPU instructions in performance-critical operations.\n",
      "To enable the following instructions: SSE4.1 SSE4.2 AVX AVX2 AVX512F AVX512_VNNI FMA, in other operations, rebuild TensorFlow with the appropriate compiler flags.\n",
      "WARNING:tensorflow:From /home/hhzheng/.conda/envs/zhh-deepmd-kit-v2.2.10/lib/python3.11/site-packages/tensorflow/python/compat/v2_compat.py:108: disable_resource_variables (from tensorflow.python.ops.variable_scope) is deprecated and will be removed in a future version.\n",
      "Instructions for updating:\n",
      "non-resource variables are not supported in the long term\n",
      "WARNING:root:To get the best performance, it is recommended to adjust the number of threads by setting the environment variables OMP_NUM_THREADS, TF_INTRA_OP_PARALLELISM_THREADS, and TF_INTER_OP_PARALLELISM_THREADS. See https://deepmd.rtfd.io/parallelism/ for more information.\n",
      "2024-11-27 10:26:49.202700: I tensorflow/core/common_runtime/gpu/gpu_device.cc:1929] Created device /job:localhost/replica:0/task:0/device:GPU:0 with 46857 MB memory:  -> device: 0, name: NVIDIA RTX A6000, pci bus id: 0000:15:00.0, compute capability: 8.6\n",
      "2024-11-27 10:26:49.203499: I tensorflow/core/common_runtime/gpu/gpu_device.cc:1929] Created device /job:localhost/replica:0/task:0/device:GPU:1 with 46749 MB memory:  -> device: 1, name: NVIDIA RTX A6000, pci bus id: 0000:2d:00.0, compute capability: 8.6\n",
      "2024-11-27 10:26:49.236815: I tensorflow/compiler/mlir/mlir_graph_optimization_pass.cc:388] MLIR V1 optimization pass is not enabled\n",
      "2024-11-27 10:26:49.394478: I tensorflow/core/common_runtime/gpu/gpu_device.cc:1929] Created device /job:localhost/replica:0/task:0/device:GPU:0 with 46857 MB memory:  -> device: 0, name: NVIDIA RTX A6000, pci bus id: 0000:15:00.0, compute capability: 8.6\n",
      "2024-11-27 10:26:49.394662: I tensorflow/core/common_runtime/gpu/gpu_device.cc:1929] Created device /job:localhost/replica:0/task:0/device:GPU:1 with 46749 MB memory:  -> device: 1, name: NVIDIA RTX A6000, pci bus id: 0000:2d:00.0, compute capability: 8.6\n",
      "DEEPMD INFO    # ---------------output of dp test--------------- \n",
      "DEEPMD INFO    # testing system : POSCAR.AlMgCu.cmcm.01x01x01/02.md/sys-0004-0008-0004/deepmd\n",
      "DEEPMD INFO    # number of test data : 2 \n",
      "DEEPMD INFO    Energy MAE         : 3.182257e-01 eV\n",
      "DEEPMD INFO    Energy RMSE        : 3.182257e-01 eV\n",
      "DEEPMD INFO    Energy MAE/Natoms  : 1.988911e-02 eV\n",
      "DEEPMD INFO    Energy RMSE/Natoms : 1.988911e-02 eV\n",
      "DEEPMD INFO    Force  MAE         : 1.486692e-02 eV/A\n",
      "DEEPMD INFO    Force  RMSE        : 2.219681e-02 eV/A\n",
      "DEEPMD INFO    Virial MAE         : 5.321028e-01 eV\n",
      "DEEPMD INFO    Virial RMSE        : 1.026982e+00 eV\n",
      "DEEPMD INFO    Virial MAE/Natoms  : 3.325643e-02 eV\n",
      "DEEPMD INFO    Virial RMSE/Natoms : 6.418635e-02 eV\n",
      "DEEPMD INFO    # ----------------------------------------------- \n"
     ]
    },
    {
     "data": {
      "text/plain": [
       "CompletedProcess(args=['dp', 'test', '-m', 'finetuned_dpa1.pb', '-s', 'POSCAR.AlMgCu.cmcm.01x01x01/02.md/sys-0004-0008-0004/deepmd', '-n', '2'], returncode=0)"
      ]
     },
     "execution_count": 6,
     "metadata": {},
     "output_type": "execute_result"
    }
   ],
   "source": [
    "# run dpa， 这个模型是对的吗？\n",
    "subprocess.run(['dp', 'test', '-m', 'finetuned_dpa1.pb', '-s', 'POSCAR.AlMgCu.cmcm.01x01x01/02.md/sys-0004-0008-0004/deepmd', '-n', '2'])"
   ]
  },
  {
   "cell_type": "code",
   "execution_count": null,
   "metadata": {},
   "outputs": [],
   "source": [
    "# use ASE to calculate the energy of "
   ]
  }
 ],
 "metadata": {
  "kernelspec": {
   "display_name": "zhh-deepmd-kit-v2.2.10",
   "language": "python",
   "name": "python3"
  },
  "language_info": {
   "codemirror_mode": {
    "name": "ipython",
    "version": 3
   },
   "file_extension": ".py",
   "mimetype": "text/x-python",
   "name": "python",
   "nbconvert_exporter": "python",
   "pygments_lexer": "ipython3",
   "version": "3.11.8"
  }
 },
 "nbformat": 4,
 "nbformat_minor": 2
}
